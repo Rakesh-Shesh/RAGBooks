{
 "cells": [
  {
   "cell_type": "markdown",
   "id": "6bc73349",
   "metadata": {
    "papermill": {
     "duration": 0.003661,
     "end_time": "2023-10-11T06:32:26.175065",
     "exception": false,
     "start_time": "2023-10-11T06:32:26.171404",
     "status": "completed"
    },
    "tags": []
   },
   "source": [
    "# Platypus2-70B + Wikipedia RAG\n"
   ]
  },
  {
   "cell_type": "code",
   "execution_count": 1,
   "id": "fc813a41",
   "metadata": {
    "_cell_guid": "b1076dfc-b9ad-4769-8c92-a6c4dae69d19",
    "_uuid": "8f2839f25d086af736a60e9eeb907d3b93b6e0e5",
    "execution": {
     "iopub.execute_input": "2023-10-11T06:32:26.183531Z",
     "iopub.status.busy": "2023-10-11T06:32:26.183205Z",
     "iopub.status.idle": "2023-10-11T06:34:24.430439Z",
     "shell.execute_reply": "2023-10-11T06:34:24.429133Z"
    },
    "papermill": {
     "duration": 118.255,
     "end_time": "2023-10-11T06:34:24.433323",
     "exception": false,
     "start_time": "2023-10-11T06:32:26.178323",
     "status": "completed"
    },
    "tags": []
   },
   "outputs": [
    {
     "name": "stdout",
     "output_type": "stream",
     "text": [
      "Processing /kaggle/input/faiss-gpu-173-python310/faiss_gpu-1.7.2-cp310-cp310-manylinux_2_17_x86_64.manylinux2014_x86_64.whl\r\n",
      "Installing collected packages: faiss-gpu\r\n",
      "Successfully installed faiss-gpu-1.7.2\r\n",
      "Processing /kaggle/input/datasets-214/datasets-2.14.5-py3-none-any.whl\r\n",
      "Installing collected packages: datasets\r\n",
      "  Attempting uninstall: datasets\r\n",
      "    Found existing installation: datasets 2.1.0\r\n",
      "    Uninstalling datasets-2.1.0:\r\n",
      "      Successfully uninstalled datasets-2.1.0\r\n",
      "Successfully installed datasets-2.14.5\r\n",
      "Processing /kaggle/input/optimum-113/optimum-1.13.2-py3-none-any.whl\r\n",
      "Installing collected packages: optimum\r\n",
      "Successfully installed optimum-1.13.2\r\n",
      "Processing /kaggle/input/transformers-432/transformers-4.32.1-py3-none-any.whl\r\n",
      "Installing collected packages: transformers\r\n",
      "  Attempting uninstall: transformers\r\n",
      "    Found existing installation: transformers 4.33.0\r\n",
      "    Uninstalling transformers-4.33.0:\r\n",
      "      Successfully uninstalled transformers-4.33.0\r\n",
      "Successfully installed transformers-4.32.1\r\n"
     ]
    }
   ],
   "source": [
    "# Installing offline dependencies\n",
    "!pip install -U --no-deps /kaggle/input/faiss-gpu-173-python310/faiss_gpu-1.7.2-cp310-cp310-manylinux_2_17_x86_64.manylinux2014_x86_64.whl\n",
    "!pip install -U --no-deps /kaggle/input/datasets-214/datasets-2.14.5-py3-none-any.whl\n",
    "!pip install -U --no-deps /kaggle/input/optimum-113/optimum-1.13.2-py3-none-any.whl\n",
    "!pip install -U --no-deps /kaggle/input/transformers-432/transformers-4.32.1-py3-none-any.whl"
   ]
  },
  {
   "cell_type": "code",
   "execution_count": 2,
   "id": "8da2af49",
   "metadata": {
    "execution": {
     "iopub.execute_input": "2023-10-11T06:34:24.444589Z",
     "iopub.status.busy": "2023-10-11T06:34:24.443433Z",
     "iopub.status.idle": "2023-10-11T06:34:48.343154Z",
     "shell.execute_reply": "2023-10-11T06:34:48.342176Z"
    },
    "papermill": {
     "duration": 23.907675,
     "end_time": "2023-10-11T06:34:48.345448",
     "exception": false,
     "start_time": "2023-10-11T06:34:24.437773",
     "status": "completed"
    },
    "tags": []
   },
   "outputs": [
    {
     "name": "stderr",
     "output_type": "stream",
     "text": [
      "/opt/conda/lib/python3.10/site-packages/scipy/__init__.py:146: UserWarning: A NumPy version >=1.16.5 and <1.23.0 is required for this version of SciPy (detected version 1.23.5\n",
      "  warnings.warn(f\"A NumPy version >={np_minversion} and <{np_maxversion}\"\n"
     ]
    }
   ],
   "source": [
    "import gc\n",
    "import logging\n",
    "from time import time\n",
    "from pathlib import Path\n",
    "from concurrent.futures import ThreadPoolExecutor\n",
    "from threading import Condition\n",
    "import ctypes\n",
    "from functools import partial\n",
    "\n",
    "import torch\n",
    "import numpy as np\n",
    "import pandas as pd\n",
    "from tqdm.auto import tqdm\n",
    "\n",
    "# For RAG\n",
    "import faiss\n",
    "import torch.nn.functional as F\n",
    "from torch.utils.data import DataLoader\n",
    "from datasets import load_from_disk, Dataset\n",
    "\n",
    "NUM_TITLES = 5\n",
    "MAX_SEQ_LEN = 512\n",
    "MODEL_PATH = \"/kaggle/input/bge-small-faiss/\"\n",
    "\n",
    "# For LLM\n",
    "from transformers import AutoConfig, AutoModelForCausalLM, AutoTokenizer, AutoModel\n",
    "from accelerate import init_empty_weights\n",
    "from accelerate.utils.modeling import set_module_tensor_to_device\n",
    "from safetensors.torch import load_file\n",
    "from optimum.bettertransformer import BetterTransformer\n",
    "\n",
    "N_BATCHES = 5\n",
    "MAX_LENGTH = 4096\n",
    "MAX_CONTEXT = 1200\n",
    "# With NUM_TITLES = 5, the median lenght of a context if 1100 tokens (Q1: 900, Q3: 1400)"
   ]
  },
  {
   "cell_type": "code",
   "execution_count": 3,
   "id": "0facaa6b",
   "metadata": {
    "execution": {
     "iopub.execute_input": "2023-10-11T06:34:48.354342Z",
     "iopub.status.busy": "2023-10-11T06:34:48.353512Z",
     "iopub.status.idle": "2023-10-11T06:34:48.401156Z",
     "shell.execute_reply": "2023-10-11T06:34:48.400175Z"
    },
    "papermill": {
     "duration": 0.053766,
     "end_time": "2023-10-11T06:34:48.403099",
     "exception": false,
     "start_time": "2023-10-11T06:34:48.349333",
     "status": "completed"
    },
    "tags": []
   },
   "outputs": [],
   "source": [
    "# Function to clean RAM & vRAM\n",
    "def clean_memory():\n",
    "    gc.collect()\n",
    "    ctypes.CDLL(\"libc.so.6\").malloc_trim(0)\n",
    "    torch.cuda.empty_cache()\n",
    "\n",
    "# Load data\n",
    "df = pd.read_csv(\"/kaggle/input/kaggle-llm-science-exam/test.csv\", index_col=\"id\")\n",
    "\n",
    "# Variable used to avoid running the notebook for 3 hours when submitting. Credit : CPMP\n",
    "IS_TEST_SET = len(df) != 200\n",
    "\n",
    "# Uncomment this to see results on the train set\n",
    "# df = pd.read_csv(\"/kaggle/input/kaggle-llm-science-exam/train.csv\", index_col=\"id\")\n",
    "# IS_TEST_SET = True\n",
    "# N_BATCHES = 1"
   ]
  },
  {
   "cell_type": "markdown",
   "id": "80a46807",
   "metadata": {
    "papermill": {
     "duration": 0.003169,
     "end_time": "2023-10-11T06:34:48.410010",
     "exception": false,
     "start_time": "2023-10-11T06:34:48.406841",
     "status": "completed"
    },
    "tags": []
   },
   "source": [
    "## 1. Wikipedia Retrieval Augmented Generation (RAG)\n",
    "\n",
    "The following code is adapted from [the notebook of @MGöksu](https://www.kaggle.com/code/mgoksu/0-807-sharing-my-trained-with-context-model) and [the notebook of @MB](https://www.kaggle.com/code/mbanaei/86-2-with-only-270k-articles/notebook). We use the [bge-small-en-v1.5](https://huggingface.co/BAAI/bge-small-en-v1.5) to embed the Wikipedia dataset."
   ]
  },
  {
   "cell_type": "code",
   "execution_count": 4,
   "id": "787eebfb",
   "metadata": {
    "execution": {
     "iopub.execute_input": "2023-10-11T06:34:48.418432Z",
     "iopub.status.busy": "2023-10-11T06:34:48.417595Z",
     "iopub.status.idle": "2023-10-11T06:34:48.425804Z",
     "shell.execute_reply": "2023-10-11T06:34:48.424908Z"
    },
    "papermill": {
     "duration": 0.014081,
     "end_time": "2023-10-11T06:34:48.427462",
     "exception": false,
     "start_time": "2023-10-11T06:34:48.413381",
     "status": "completed"
    },
    "tags": []
   },
   "outputs": [],
   "source": [
    "# New SentenceTransformer class similar to the one used in @Mgöksu notebook but relying on the transformers library only\n",
    "\n",
    "class SentenceTransformer:\n",
    "    def __init__(self, checkpoint, device=\"cuda:0\"):\n",
    "        self.device = device\n",
    "        self.checkpoint = checkpoint\n",
    "        self.model = AutoModel.from_pretrained(checkpoint).to(self.device).half()\n",
    "        self.tokenizer = AutoTokenizer.from_pretrained(checkpoint)\n",
    "\n",
    "    def transform(self, batch):\n",
    "        tokens = self.tokenizer(batch[\"text\"], truncation=True, padding=True, return_tensors=\"pt\", max_length=MAX_SEQ_LEN)\n",
    "        return tokens.to(self.device)  \n",
    "\n",
    "    def get_dataloader(self, sentences, batch_size=32):\n",
    "        sentences = [\"Represent this sentence for searching relevant passages: \" + x for x in sentences]\n",
    "        dataset = Dataset.from_dict({\"text\": sentences})\n",
    "        dataset.set_transform(self.transform)\n",
    "        dataloader = DataLoader(dataset, batch_size=batch_size, shuffle=False)\n",
    "        return dataloader\n",
    "\n",
    "    def encode(self, sentences, show_progress_bar=False, batch_size=32):\n",
    "        dataloader = self.get_dataloader(sentences, batch_size=batch_size)\n",
    "        pbar = tqdm(dataloader) if show_progress_bar else dataloader\n",
    "\n",
    "        embeddings = []\n",
    "        for batch in pbar:\n",
    "            with torch.no_grad():\n",
    "                e = self.model(**batch).pooler_output\n",
    "                e = F.normalize(e, p=2, dim=1)\n",
    "                embeddings.append(e.detach().cpu().numpy())\n",
    "        embeddings = np.concatenate(embeddings, axis=0)\n",
    "        return embeddings"
   ]
  },
  {
   "cell_type": "code",
   "execution_count": 5,
   "id": "a3a94ec1",
   "metadata": {
    "execution": {
     "iopub.execute_input": "2023-10-11T06:34:48.435723Z",
     "iopub.status.busy": "2023-10-11T06:34:48.434790Z",
     "iopub.status.idle": "2023-10-11T06:34:48.441920Z",
     "shell.execute_reply": "2023-10-11T06:34:48.441161Z"
    },
    "papermill": {
     "duration": 0.012885,
     "end_time": "2023-10-11T06:34:48.443593",
     "exception": false,
     "start_time": "2023-10-11T06:34:48.430708",
     "status": "completed"
    },
    "tags": []
   },
   "outputs": [],
   "source": [
    "if IS_TEST_SET:\n",
    "    # Load embedding model\n",
    "    start = time()\n",
    "    print(f\"Starting prompt embedding, t={time() - start :.1f}s\")\n",
    "    model = SentenceTransformer(MODEL_PATH, device=\"cuda:0\")\n",
    "\n",
    "    # Get embeddings of prompts\n",
    "    f = lambda row : \" \".join([row[\"prompt\"], row[\"A\"], row[\"B\"], row[\"C\"], row[\"D\"], row[\"E\"]])\n",
    "    inputs = df.apply(f, axis=1).values # better results than prompt only\n",
    "    prompt_embeddings = model.encode(inputs, show_progress_bar=False)\n",
    "\n",
    "    # Search closest sentences in the wikipedia index \n",
    "    print(f\"Loading faiss index, t={time() - start :.1f}s\")\n",
    "    faiss_index = faiss.read_index(MODEL_PATH + '/faiss.index')\n",
    "    # faiss_index = faiss.index_cpu_to_all_gpus(faiss_index) # causes OOM, and not that long on CPU\n",
    "\n",
    "    print(f\"Starting text search, t={time() - start :.1f}s\")\n",
    "    search_index = faiss_index.search(np.float32(prompt_embeddings), NUM_TITLES)[1]\n",
    "\n",
    "    print(f\"Starting context extraction, t={time() - start :.1f}s\")\n",
    "    dataset = load_from_disk(\"/kaggle/input/all-paraphs-parsed-expanded\")\n",
    "    for i in range(len(df)):\n",
    "        df.loc[i, \"context\"] = \"-\" + \"\\n-\".join([dataset[int(j)][\"text\"] for j in search_index[i]])\n",
    "\n",
    "    # Free memory\n",
    "    faiss_index.reset()\n",
    "    del faiss_index, prompt_embeddings, model, dataset\n",
    "    clean_memory()\n",
    "    print(f\"Context added, t={time() - start :.1f}s\")"
   ]
  },
  {
   "cell_type": "markdown",
   "id": "dfae3955",
   "metadata": {
    "papermill": {
     "duration": 0.003025,
     "end_time": "2023-10-11T06:34:48.450010",
     "exception": false,
     "start_time": "2023-10-11T06:34:48.446985",
     "status": "completed"
    },
    "tags": []
   },
   "source": [
    "## 2: Run Platypus2-70B\n",
    "\n",
    "To run such a large model on a single T4 GPU, we run it layer by layer and sample by sample. The model below has been finetuned by the SUStech team, for a zero-shot version refer to Version 15 of this notebook."
   ]
  },
  {
   "cell_type": "code",
   "execution_count": 6,
   "id": "e64f3aaa",
   "metadata": {
    "execution": {
     "iopub.execute_input": "2023-10-11T06:34:48.458159Z",
     "iopub.status.busy": "2023-10-11T06:34:48.457479Z",
     "iopub.status.idle": "2023-10-11T06:34:48.512899Z",
     "shell.execute_reply": "2023-10-11T06:34:48.512095Z"
    },
    "papermill": {
     "duration": 0.061576,
     "end_time": "2023-10-11T06:34:48.514769",
     "exception": false,
     "start_time": "2023-10-11T06:34:48.453193",
     "status": "completed"
    },
    "tags": []
   },
   "outputs": [],
   "source": [
    "# Create symlinks from kaggle datasets to fake cached model\n",
    "\n",
    "checkpoint_path = Path(\"/root/.cache/\")\n",
    "checkpoint_path.mkdir(exist_ok=True, parents=True)\n",
    "\n",
    "for part in [1, 2, 3]:\n",
    "    source_dir = Path(f'/kaggle/input/platypus2-chuhac2-part{part}')\n",
    "    for path in source_dir.glob(\"*\"):\n",
    "        (checkpoint_path / path.name).symlink_to(path)"
   ]
  },
  {
   "cell_type": "code",
   "execution_count": 7,
   "id": "71eb769b",
   "metadata": {
    "execution": {
     "iopub.execute_input": "2023-10-11T06:34:48.523421Z",
     "iopub.status.busy": "2023-10-11T06:34:48.522565Z",
     "iopub.status.idle": "2023-10-11T06:34:48.530267Z",
     "shell.execute_reply": "2023-10-11T06:34:48.529476Z"
    },
    "papermill": {
     "duration": 0.013493,
     "end_time": "2023-10-11T06:34:48.531843",
     "exception": false,
     "start_time": "2023-10-11T06:34:48.518350",
     "status": "completed"
    },
    "tags": []
   },
   "outputs": [],
   "source": [
    "class WeightsLoader:\n",
    "    \"\"\"\n",
    "    Thread-safe class to load the weights of the model.\n",
    "    The weights are loaded in the background and can be accessed with get_state_dict().\n",
    "    All devices must call set_state_dict() before the weights are loaded.\n",
    "    \"\"\"\n",
    "    \n",
    "    def __init__(self, checkpoint_path, devices):\n",
    "        self.checkpoint_path = Path(checkpoint_path)\n",
    "        self.states = {device: None for device in devices}\n",
    "        self.state_dict = None\n",
    "        self.condition = Condition()\n",
    "        \n",
    "    def get_state_dict(self, device):\n",
    "        with self.condition:\n",
    "            while self.states[device] is not None:\n",
    "                self.condition.wait()\n",
    "            \n",
    "            result = self.state_dict\n",
    "            self.states[device] = None\n",
    "            \n",
    "            if not any(self.states.values()):\n",
    "                self.condition.notify_all()\n",
    "\n",
    "        return result\n",
    "\n",
    "    def set_state_dict(self, layer_name, device):\n",
    "        with self.condition:\n",
    "            self.states[device] = layer_name\n",
    "            if all(self.states.values()):\n",
    "                assert len(set(self.states.values())) == 1, \"All devices should load the same layer\"\n",
    "                self.state_dict = load_file(self.checkpoint_path / (layer_name + \".safetensors\"), device=\"cpu\")\n",
    "                for d in self.states:\n",
    "                    self.states[d] = None\n",
    "                self.condition.notify_all()"
   ]
  },
  {
   "cell_type": "code",
   "execution_count": 8,
   "id": "befb2eb0",
   "metadata": {
    "execution": {
     "iopub.execute_input": "2023-10-11T06:34:48.542037Z",
     "iopub.status.busy": "2023-10-11T06:34:48.541770Z",
     "iopub.status.idle": "2023-10-11T06:34:48.561056Z",
     "shell.execute_reply": "2023-10-11T06:34:48.560282Z"
    },
    "papermill": {
     "duration": 0.02751,
     "end_time": "2023-10-11T06:34:48.562736",
     "exception": false,
     "start_time": "2023-10-11T06:34:48.535226",
     "status": "completed"
    },
    "tags": []
   },
   "outputs": [],
   "source": [
    "# Class for sharded llama\n",
    "class ShardedLlama:\n",
    "    def __init__(self, checkpoint_path, weights_loader, device=\"cuda:0\", dtype=torch.float16):\n",
    "        \"\"\"\n",
    "        Sharded version of LlamaForCausalLM : the model is splitted into layer shards to reduce GPU memory usage.\n",
    "        During the forward pass, the inputs are processed layer by layer, and the GPU memory is freed after each layer.\n",
    "        To avoid loading the layers multiple times, we could save all the intermediate activations in RAM, but\n",
    "        as Kaggle accelerators have more GPU memory than CPU, we simply batch the inputs and keep them on the GPU.\n",
    "\n",
    "        Parameters\n",
    "        ----------\n",
    "        checkpoint_path : str or Path\n",
    "            path to the checkpoint\n",
    "        weights_loader : WeightsLoader\n",
    "            object to load the weights\n",
    "        device : str, optional\n",
    "            device, by default \"cuda:0\"\n",
    "        dtype : torch.dtype, optional\n",
    "            dtype, by default torch.float16\n",
    "        \"\"\"\n",
    "        \n",
    "        # Save parameters\n",
    "        self.checkpoint_path = Path(checkpoint_path)\n",
    "        self.weights_loader = weights_loader\n",
    "        self.device = device \n",
    "        self.dtype = dtype\n",
    "\n",
    "        # Create model\n",
    "        self.config = AutoConfig.from_pretrained(self.checkpoint_path)   \n",
    "        self.tokenizer = AutoTokenizer.from_pretrained(checkpoint_path)\n",
    "        self.tokenizer.pad_token = self.tokenizer.eos_token\n",
    "        self.tokenizer.padding_side = \"right\"\n",
    "        self.init_model()\n",
    "        self.layer_names = [\"model.embed_tokens\"] + [f\"model.layers.{i}\" for i in range(len(self.model.model.layers))] + [\"model.norm\", \"value_head\"]\n",
    "\n",
    "    def init_model(self):\n",
    "    \n",
    "        # Load meta model (no memory used)\n",
    "        with init_empty_weights():\n",
    "            self.model = AutoModelForCausalLM.from_config(self.config)\n",
    "            self.model.lm_head = torch.nn.Linear(8192, 8, bias=False) # originally 32k\n",
    "            self.model.eval()\n",
    "            self.model = BetterTransformer.transform(self.model) # enable flash attention\n",
    "            self.model.tie_weights()\n",
    "            \n",
    "        self.layers = [self.model.model.embed_tokens] + list(self.model.model.layers) + [self.model.model.norm, self.model.lm_head]\n",
    "\n",
    "        # Move buffers to device (not that much GPU memory used)\n",
    "        for buffer_name, buffer in self.model.named_buffers():\n",
    "            set_module_tensor_to_device(self.model, buffer_name, self.device, value=buffer, dtype=self.dtype)\n",
    "\n",
    "    def load_layer_to_cpu(self, layer_name):\n",
    "        self.weights_loader.set_state_dict(layer_name, self.device)\n",
    "        state_dict = self.weights_loader.get_state_dict(self.device)\n",
    "        if \"value_head.weight\" in state_dict:\n",
    "            state_dict = {\"lm_head.weight\" : state_dict[\"value_head.weight\"]}\n",
    "        return state_dict\n",
    "        \n",
    "    def move_layer_to_device(self, state_dict):\n",
    "        for param_name, param in state_dict.items():\n",
    "            assert param.dtype != torch.int8, \"int8 not supported (need to add fp16_statistics)\"\n",
    "            set_module_tensor_to_device(self.model, param_name, self.device, value=param, dtype=self.dtype)\n",
    "\n",
    "    def __call__(self, inputs):\n",
    "        # inputs = [(prefix, suffix), ...] with prefix.shape[0] = 1 and suffix.shape[0] = 5\n",
    "        \n",
    "        # Reboot the model to make sure buffers are loaded and memory is clean\n",
    "        del self.model\n",
    "        clean_memory()\n",
    "        self.init_model()\n",
    "        \n",
    "       # Send batch to device\n",
    "        batch = [(prefix.to(self.device), suffix.to(self.device)) for prefix, suffix in inputs]\n",
    "        n_suffixes = len(batch[0][1])\n",
    "        suffix_eos = [(suffix != self.tokenizer.pad_token_id).sum(1) - 1 for _, suffix in inputs]\n",
    "\n",
    "        # Create attention mask for the largest input, and position ids to use KV cache\n",
    "        attention_mask = torch.ones(MAX_LENGTH, MAX_LENGTH)\n",
    "        attention_mask = attention_mask.triu(diagonal=1)[None, None, ...] == 0\n",
    "        attention_mask = attention_mask.to(self.device)\n",
    "        position_ids = torch.arange(MAX_LENGTH, dtype=torch.long, device=self.device)[None, :]\n",
    "\n",
    "        with ThreadPoolExecutor() as executor, torch.inference_mode():\n",
    "\n",
    "            # Load first layer\n",
    "            future = executor.submit(self.load_layer_to_cpu, \"model.embed_tokens\")\n",
    "\n",
    "            for i, (layer_name, layer) in tqdm(enumerate(zip(self.layer_names, self.layers)), desc=self.device, total=len(self.layers)):\n",
    "\n",
    "                # Load current layer and prepare next layer\n",
    "                state_dict = future.result()\n",
    "                if (i + 1) < len(self.layer_names):\n",
    "                    future = executor.submit(self.load_layer_to_cpu, self.layer_names[i + 1])\n",
    "                self.move_layer_to_device(state_dict)\n",
    "                \n",
    "                # Run layer\n",
    "                for j, (prefix, suffix) in enumerate(batch):\n",
    "                    if layer_name == \"model.embed_tokens\":\n",
    "                        batch[j] = (layer(prefix), layer(suffix))\n",
    "                    elif layer_name == \"model.norm\":\n",
    "                        # Only keep the last token at this point\n",
    "                        batch[j] = (None, layer(suffix[torch.arange(n_suffixes), suffix_eos[j]][:, None]))\n",
    "                    elif layer_name == \"value_head\":\n",
    "                        batch[j] = layer(suffix)[:, 0].mean(1).detach().cpu().numpy()\n",
    "                    else:\n",
    "                        # Run prefix\n",
    "                        len_p, len_s = prefix.shape[1], suffix.shape[1]\n",
    "                        new_prefix, (k_cache, v_cache) = layer(prefix, use_cache=True, attention_mask=attention_mask[:, :, -len_p:, -len_p:])\n",
    "                        \n",
    "                        # Run suffix\n",
    "                        pos = position_ids[:, len_p:len_p + len_s].expand(n_suffixes, -1)\n",
    "                        attn = attention_mask[:, :, -len_s:, -len_p - len_s:].expand(n_suffixes, -1, -1, -1)\n",
    "                        kv_cache = (k_cache.expand(n_suffixes, -1, -1, -1), v_cache.expand(n_suffixes, -1, -1, -1))\n",
    "                        new_suffix = layer(suffix, past_key_value=kv_cache, position_ids=pos, attention_mask=attn)[0]\n",
    "                        batch[j] = (new_prefix, new_suffix)\n",
    "\n",
    "                # Remove previous layer from memory (including buffers)\n",
    "                layer.to(\"meta\")\n",
    "                clean_memory() # proposed by CPMP\n",
    "\n",
    "        # Get scores\n",
    "        return batch"
   ]
  },
  {
   "cell_type": "code",
   "execution_count": 9,
   "id": "9b0a588d",
   "metadata": {
    "execution": {
     "iopub.execute_input": "2023-10-11T06:34:48.570976Z",
     "iopub.status.busy": "2023-10-11T06:34:48.570730Z",
     "iopub.status.idle": "2023-10-11T06:34:48.589972Z",
     "shell.execute_reply": "2023-10-11T06:34:48.589186Z"
    },
    "papermill": {
     "duration": 0.025331,
     "end_time": "2023-10-11T06:34:48.591624",
     "exception": false,
     "start_time": "2023-10-11T06:34:48.566293",
     "status": "completed"
    },
    "tags": []
   },
   "outputs": [],
   "source": [
    "# Run model on the 2 GPUs\n",
    "\n",
    "def get_tokens(row, tokenizer): \n",
    "        system_prefix = \"Below is an instruction that describes a task, paired with an input that provides further context. Write a response that appropriately completes the request.\\n\\n### Instruction:\\n{instruction}\\n\\n### Input:\\nContext:\\n{context}\"\n",
    "        instruction = \"Your task is to analyze the question and answer below. If the answer is correct, respond yes, if it is not correct respond no. As a potential aid to your answer, background context from Wikipedia articles is at your disposal, even if they might not always be relevant.\"\n",
    "\n",
    "        # max length : MAX_LENGTH\n",
    "        prompt_suffix = [f\"{row[letter]}\\n\\n### Response:\\n\" for letter in \"ABCDE\"]\n",
    "        suffix = tokenizer(prompt_suffix, return_tensors=\"pt\", return_attention_mask=False, truncation=True, max_length=MAX_LENGTH, padding=True)[\"input_ids\"][:, 1:]\n",
    "\n",
    "        # max length : max(0, MAX_LENGTH - len(suffix))\n",
    "        prompt_question = f\"\\nQuestion: {row['prompt']}\\nProposed answer: \"\n",
    "        question = tokenizer(prompt_question, return_tensors=\"pt\", return_attention_mask=False, truncation=True, max_length=max(0, MAX_LENGTH - suffix.shape[1]))[\"input_ids\"][:, 1:]\n",
    "\n",
    "        # max length : min(MAX_CONTEXT, max(0, MAX_LENGTH - len(suffix) - len(question)))\n",
    "        prompt_context = system_prefix.format(instruction=instruction, context=row[\"context\"])\n",
    "        max_length = min(MAX_CONTEXT, max(0, MAX_LENGTH - question.shape[1] - suffix.shape[1]))\n",
    "        context = tokenizer(prompt_context, return_tensors=\"pt\", return_attention_mask=False, truncation=True, max_length=max_length)[\"input_ids\"]\n",
    "\n",
    "        prefix = torch.cat([context, question], dim=1)\n",
    "        return prefix, suffix\n",
    "\n",
    "def run_model(device, df, weights_loader):\n",
    "    model = ShardedLlama(checkpoint_path, weights_loader, device=device)\n",
    "    f = partial(get_tokens, tokenizer=model.tokenizer)\n",
    "    inputs = df.apply(f, axis=1).values\n",
    "    batches = np.array_split(inputs, N_BATCHES)\n",
    "    outputs = []\n",
    "    for i, batch in enumerate(batches):\n",
    "        outputs += model(batch)\n",
    "    return outputs\n",
    "\n",
    "# Run model\n",
    "if IS_TEST_SET:\n",
    "    devices = [f\"cuda:{i}\" for i in range(torch.cuda.device_count())]\n",
    "    weights_loader = WeightsLoader(checkpoint_path, devices)\n",
    "    f = partial(run_model, weights_loader=weights_loader) # added by treesky\n",
    "    with ThreadPoolExecutor() as executor:\n",
    "        outputs = list(executor.map(f, devices, np.array_split(df, 2)))\n",
    "        outputs = sum(outputs, [])\n",
    "        \n",
    "    # Save results\n",
    "    n = len(df)\n",
    "    for i, scores in enumerate(outputs):\n",
    "        top3 = np.argsort(scores)[::-1]\n",
    "        df.loc[i, \"prediction\"] = \" \".join([\"ABCDE\"[j] for j in top3])\n",
    "    \n",
    "    # Display performances if train set is used \n",
    "    if \"answer\" in df.columns:\n",
    "        for i in range(n):\n",
    "            df.loc[i, \"top_1\"] = df.loc[i, \"prediction\"][0]\n",
    "            df.loc[i, \"top_2\"] = df.loc[i, \"prediction\"][2]\n",
    "            df.loc[i, \"top_3\"] = df.loc[i, \"prediction\"][4]\n",
    "\n",
    "        top_i = [(df[f\"top_{i}\"] == df[\"answer\"]).sum() for i in [1, 2, 3]]\n",
    "        print(f\"top1 : {top_i[0]}/{n}, top2 : {top_i[1]}/{n}, top3 : {top_i[2]}/{n} (total={sum(top_i)} / {n})\")\n",
    "        print(f\"Accuracy: {100*top_i[0]/n:.1f}%, map3: {100*(top_i[0] + top_i[1]*1/2 + top_i[2]*1/3).sum()/n:.1f}%\")\n",
    "else:\n",
    "    df[\"prediction\"] = \"A B C\"\n",
    "\n",
    "df[[\"prediction\"]].to_csv(\"submission.csv\")"
   ]
  }
 ],
 "metadata": {
  "kernelspec": {
   "display_name": "Python 3",
   "language": "python",
   "name": "python3"
  },
  "language_info": {
   "codemirror_mode": {
    "name": "ipython",
    "version": 3
   },
   "file_extension": ".py",
   "mimetype": "text/x-python",
   "name": "python",
   "nbconvert_exporter": "python",
   "pygments_lexer": "ipython3",
   "version": "3.10.12"
  },
  "papermill": {
   "default_parameters": {},
   "duration": 150.458171,
   "end_time": "2023-10-11T06:34:52.152497",
   "environment_variables": {},
   "exception": null,
   "input_path": "__notebook__.ipynb",
   "output_path": "__notebook__.ipynb",
   "parameters": {},
   "start_time": "2023-10-11T06:32:21.694326",
   "version": "2.4.0"
  }
 },
 "nbformat": 4,
 "nbformat_minor": 5
}
